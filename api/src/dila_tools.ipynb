{
 "cells": [
  {
   "cell_type": "markdown",
   "metadata": {},
   "source": [
    "## Objectif du notebook :\n",
    "\n",
    "Créer des fonctions qui oeuvreront au même moment que la NER pour protéger des instances sensibles qui ne sont pas des entités nommées, comme !\n",
    "- Des numéros de sécurité sociale\n",
    "- Des sites internet\n",
    "- Des adresses mail\n",
    "- Des plaques d'immatriculation"
   ]
  },
  {
   "cell_type": "code",
   "execution_count": 320,
   "metadata": {},
   "outputs": [],
   "source": [
    "# Imports\n",
    "\n",
    "import regex as re"
   ]
  },
  {
   "cell_type": "code",
   "execution_count": 321,
   "metadata": {},
   "outputs": [],
   "source": [
    "# Création de la liste de groupes d'entités :\n",
    "\n",
    "entity_groups = [\"SS\", \"email\", \"plate\", \"phone\", \"date\"]"
   ]
  },
  {
   "cell_type": "code",
   "execution_count": 322,
   "metadata": {},
   "outputs": [],
   "source": [
    "# Regex pour les NIR :\n",
    "\n",
    "reg_ss = r\"/^[12][0-9]{2}[0-1][0-9](2[AB]|[0-9]{2})[0-9]{2}[0-9]{3}[0-9]{3}$/x\"\n",
    "\n",
    "# Regex pour les plaques :\n",
    "\n",
    "reg_plate = r\"[A-Z]+[A-Z0-9\\- ]{6,8}\"\n",
    "#reg_plate = r\"\\b[0-9A-Z]{3}([^ 0-9A-Z]|\\s)?[0-9]{4}\\b\"\n",
    "\n",
    "# Regex pour les numéros de téléphone :\n",
    "\n",
    "reg_phone = r\"(0|(\\+33)|(0033))+[1-9]+[0-9]{8}\"\n",
    "\n",
    "# Regex pour les numéros\n",
    "\n",
    "reg_num = r\"[0-9+/.\\- ]{6,}\"\n",
    "\n",
    "# Regex pour un email :\n",
    "\n",
    "reg_email = r\"[a-zA-Z0-9.\\-\\_]+@[a-zA-Z0-9.\\-\\_]+\"\n",
    "\n",
    "# Regex pour les dates :\n",
    "\n",
    "reg_dates = r\"^(?:(?:31(\\/|-|\\.)(?:0?[13578]|1[02]))\\1|(?:(?:29|30)(\\/|-|\\.)(?:0?[13-9]|1[0-2])\\2))(?:(?:1[6-9]|[2-9]\\d)?\\d{2})$|^(?:29(\\/|-|\\.)0?2\\3(?:(?:(?:1[6-9]|[2-9]\\d)?(?:0[48]|[2468][048]|[13579][26])|(?:(?:16|[2468][048]|[3579][26])00))))$|^(?:0?[1-9]|1\\d|2[0-8])(\\/|-|\\.)(?:(?:0?[1-9])|(?:1[0-2]))\\4(?:(?:1[6-9]|[2-9]\\d)?\\d{2})\""
   ]
  },
  {
   "cell_type": "code",
   "execution_count": 323,
   "metadata": {},
   "outputs": [],
   "source": [
    "# faire fonction générale qui prend un dico en entrée et qui run toutes les fonctions et ajoute tout au bon format au dictionnaire et un texte\n",
    "\n",
    "def add_entities (text:str,\n",
    "                  l : list = None):\n",
    "    if not l:\n",
    "        l = []\n",
    "    plates = re.findall(reg_plate, text)\n",
    "    plates = list(dict.fromkeys(plates))\n",
    "    numbers = re.findall(reg_num, text)\n",
    "    numbers = list(dict.fromkeys(numbers))\n",
    "    emails = re.findall(reg_email, text)\n",
    "    emails = list(dict.fromkeys(emails))\n",
    "    entity_groups = {\"Number\":numbers,\"email\":emails,\"plate\":plates}\n",
    "    \n",
    "    for entity_type in entity_groups.keys():\n",
    "        for item in entity_groups[entity_type]:\n",
    "            if isinstance(item, tuple) and tuple[0] != '':\n",
    "                dic = {}\n",
    "                dic[\"entity_group\"] = entity_type\n",
    "                dic[\"word\"] = item[0]\n",
    "                l.append(dic)\n",
    "            elif isinstance(item, str):\n",
    "                dic = {}\n",
    "                dic[\"entity_group\"] = entity_type\n",
    "                dic[\"word\"] = item\n",
    "                l.append(dic)\n",
    "    return(l)"
   ]
  },
  {
   "cell_type": "code",
   "execution_count": 324,
   "metadata": {},
   "outputs": [
    {
     "data": {
      "text/plain": [
       "[{'entity_group': 'Number', 'word': ' 2 69 24 18 158 275 '},\n",
       " {'entity_group': 'Number', 'word': ' +33622541979 24-06-2000'},\n",
       " {'entity_group': 'email', 'word': 'lucie@clemot.com'},\n",
       " {'entity_group': 'plate', 'word': 'OL-077-DV '}]"
      ]
     },
     "execution_count": 324,
     "metadata": {},
     "output_type": "execute_result"
    }
   ],
   "source": [
    "txt = \"OL-077-DV 2 69 24 18 158 275 lucie@clemot.com +33622541979 24-06-2000\"\n",
    "\n",
    "add_entities(txt)\n"
   ]
  },
  {
   "cell_type": "code",
   "execution_count": 325,
   "metadata": {},
   "outputs": [],
   "source": [
    "from transformers import AutoTokenizer, AutoModelForTokenClassification\n",
    "\n",
    "tokenizer = AutoTokenizer.from_pretrained(\"Jean-Baptiste/camembert-ner\")\n",
    "model = AutoModelForTokenClassification.from_pretrained(\"Jean-Baptiste/camembert-ner\")\n",
    "\n",
    "from transformers import pipeline\n",
    "\n",
    "nlp = pipeline(\"ner\", model=model, tokenizer=tokenizer, aggregation_strategy=\"simple\")\n",
    "\n",
    "def identify_ners(text:str) -> list :\n",
    "    ner = nlp(text)\n",
    "    ner = add_entities(text, ner)\n",
    "    return(ner)\n",
    "    \n",
    "\n",
    "def pseudo(name:str):\n",
    "    return('X'*len(name))\n",
    "\n",
    "def pseudo_all(text : str , file_ners: list):\n",
    "    \"\"\"\n",
    "    Pseudonymizes all NERs within the file.\"\"\"\n",
    "    for i, ner in enumerate(file_ners):\n",
    "        if ner[\"entity_group\"]:\n",
    "            name = ner[\"word\"]\n",
    "            if len(name) > 1:\n",
    "                pseudo_name = pseudo(name)\n",
    "                text = text.replace(name, pseudo_name)\n",
    "    return(text)"
   ]
  },
  {
   "cell_type": "code",
   "execution_count": 326,
   "metadata": {},
   "outputs": [
    {
     "data": {
      "text/plain": [
       "\"j'habite au 2 route XXXXXXXX à XXXXXX\""
      ]
     },
     "execution_count": 326,
     "metadata": {},
     "output_type": "execute_result"
    }
   ],
   "source": [
    "text = \"j'habite au 2 route tru truc à machin\"\n",
    "\n",
    "ners = identify_ners(text)\n",
    "\n",
    "text_new = pseudo_all(text, ners)\n",
    "\n",
    "text_new"
   ]
  },
  {
   "cell_type": "code",
   "execution_count": 327,
   "metadata": {},
   "outputs": [],
   "source": [
    "import os\n",
    "\n",
    "import pandas as pd\n",
    "import s3fs\n",
    "# Create filesystem object\n",
    "S3_ENDPOINT_URL = \"https://\" + os.environ[\"AWS_S3_ENDPOINT\"]\n",
    "fs = s3fs.S3FileSystem(client_kwargs={'endpoint_url': S3_ENDPOINT_URL})\n",
    "BUCKET = \"projet-transformers\"\n",
    "FILE_KEY_S3 = \"01092023 - Tests Anonymisation - Outil DINUM 2.csv\"\n",
    "FILE_PATH_S3 = BUCKET + \"/\" + FILE_KEY_S3"
   ]
  },
  {
   "cell_type": "code",
   "execution_count": 336,
   "metadata": {},
   "outputs": [
    {
     "data": {
      "text/html": [
       "<div>\n",
       "<style scoped>\n",
       "    .dataframe tbody tr th:only-of-type {\n",
       "        vertical-align: middle;\n",
       "    }\n",
       "\n",
       "    .dataframe tbody tr th {\n",
       "        vertical-align: top;\n",
       "    }\n",
       "\n",
       "    .dataframe thead th {\n",
       "        text-align: right;\n",
       "    }\n",
       "</style>\n",
       "<table border=\"1\" class=\"dataframe\">\n",
       "  <thead>\n",
       "    <tr style=\"text-align: right;\">\n",
       "      <th></th>\n",
       "      <th>Message d'origine</th>\n",
       "    </tr>\n",
       "    <tr>\n",
       "      <th>N°</th>\n",
       "      <th></th>\n",
       "    </tr>\n",
       "  </thead>\n",
       "  <tbody>\n",
       "    <tr>\n",
       "      <th>1</th>\n",
       "      <td>\" Bonjour, je viens d'arriver en france ,j'aie...</td>\n",
       "    </tr>\n",
       "    <tr>\n",
       "      <th>2</th>\n",
       "      <td>\" J'ai fait une demande de duplicata de carte ...</td>\n",
       "    </tr>\n",
       "    <tr>\n",
       "      <th>3</th>\n",
       "      <td>\" Bonjour, J'ai passé commande pour certificat...</td>\n",
       "    </tr>\n",
       "    <tr>\n",
       "      <th>4</th>\n",
       "      <td>\" Bonjour, Mr LE BRUYN Steeve est inscrit chez...</td>\n",
       "    </tr>\n",
       "    <tr>\n",
       "      <th>5</th>\n",
       "      <td>\" En date du 4/01/218, j'ai commandé deux vign...</td>\n",
       "    </tr>\n",
       "  </tbody>\n",
       "</table>\n",
       "</div>"
      ],
      "text/plain": [
       "                                    Message d'origine\n",
       "N°                                                   \n",
       "1   \" Bonjour, je viens d'arriver en france ,j'aie...\n",
       "2   \" J'ai fait une demande de duplicata de carte ...\n",
       "3   \" Bonjour, J'ai passé commande pour certificat...\n",
       "4   \" Bonjour, Mr LE BRUYN Steeve est inscrit chez...\n",
       "5   \" En date du 4/01/218, j'ai commandé deux vign..."
      ]
     },
     "execution_count": 336,
     "metadata": {},
     "output_type": "execute_result"
    }
   ],
   "source": [
    "with fs.open(FILE_PATH_S3, mode=\"rb\") as file_in:\n",
    "    df_dila = pd.read_csv(file_in, \n",
    "            sep=\";\",\n",
    "            encoding='utf-8',\n",
    "            usecols = [\"N°\",\"Message d'origine\"],\n",
    "            index_col=0\n",
    "            )\n",
    "\n",
    "df_dila.head()"
   ]
  },
  {
   "cell_type": "code",
   "execution_count": 337,
   "metadata": {},
   "outputs": [],
   "source": [
    "def process_text(sentence :str):\n",
    "    ners = identify_ners(sentence)\n",
    "    new_sentence = pseudo_all(sentence, ners)\n",
    "    return(new_sentence)\n",
    "    \n",
    "\n",
    "df_dila[\"Message d'origine\"] = df_dila[\"Message d'origine\"].apply(process_text)"
   ]
  },
  {
   "cell_type": "code",
   "execution_count": 344,
   "metadata": {},
   "outputs": [],
   "source": [
    "BUCKET_OUT = \"projet-transformers\"\n",
    "FILE_KEY_OUT_S3 = \"test_dila_output.csv\"\n",
    "FILE_PATH_OUT_S3 = BUCKET_OUT + \"/\" + FILE_KEY_OUT_S3\n",
    "\n",
    "with fs.open(FILE_PATH_OUT_S3, 'w') as file_out:\n",
    "    df_dila.to_csv(file_out,\n",
    "    #encoding=\"utf-8\",\n",
    "    #sep=\";\"\n",
    "    )"
   ]
  },
  {
   "cell_type": "code",
   "execution_count": 341,
   "metadata": {},
   "outputs": [
    {
     "data": {
      "text/html": [
       "<div>\n",
       "<style scoped>\n",
       "    .dataframe tbody tr th:only-of-type {\n",
       "        vertical-align: middle;\n",
       "    }\n",
       "\n",
       "    .dataframe tbody tr th {\n",
       "        vertical-align: top;\n",
       "    }\n",
       "\n",
       "    .dataframe thead th {\n",
       "        text-align: right;\n",
       "    }\n",
       "</style>\n",
       "<table border=\"1\" class=\"dataframe\">\n",
       "  <thead>\n",
       "    <tr style=\"text-align: right;\">\n",
       "      <th></th>\n",
       "      <th>Message d'origine</th>\n",
       "    </tr>\n",
       "    <tr>\n",
       "      <th>N°</th>\n",
       "      <th></th>\n",
       "    </tr>\n",
       "  </thead>\n",
       "  <tbody>\n",
       "    <tr>\n",
       "      <th>1</th>\n",
       "      <td>\" Bonjour, je viens d'arriver en XXXXXX ,j'aie...</td>\n",
       "    </tr>\n",
       "    <tr>\n",
       "      <th>2</th>\n",
       "      <td>\" J'ai fait une demande de duplicata de carte ...</td>\n",
       "    </tr>\n",
       "    <tr>\n",
       "      <th>3</th>\n",
       "      <td>\" Bonjour, J'ai passé commande pour certificat...</td>\n",
       "    </tr>\n",
       "    <tr>\n",
       "      <th>4</th>\n",
       "      <td>\" Bonjour, Mr XXXXXXXXXXXXXXX est inscrit chez...</td>\n",
       "    </tr>\n",
       "    <tr>\n",
       "      <th>5</th>\n",
       "      <td>\" En date duXXXXXXXXX, j'ai commandé deux vign...</td>\n",
       "    </tr>\n",
       "    <tr>\n",
       "      <th>...</th>\n",
       "      <td>...</td>\n",
       "    </tr>\n",
       "    <tr>\n",
       "      <th>96</th>\n",
       "      <td>\" Bonjour, J'aimerais savoir si ce dimanche 26...</td>\n",
       "    </tr>\n",
       "    <tr>\n",
       "      <th>97</th>\n",
       "      <td>\" J'ai acheté un véhicule leXXXXXXX:19. L'anci...</td>\n",
       "    </tr>\n",
       "    <tr>\n",
       "      <th>98</th>\n",
       "      <td>\" Bonjour, J'ai fait une demande de copie d'in...</td>\n",
       "    </tr>\n",
       "    <tr>\n",
       "      <th>99</th>\n",
       "      <td>\" Bonjour, Je suis mariée depuis mars et ai ch...</td>\n",
       "    </tr>\n",
       "    <tr>\n",
       "      <th>100</th>\n",
       "      <td>\" Bonjour. Je suis au pair en XXXXXX depuis oc...</td>\n",
       "    </tr>\n",
       "  </tbody>\n",
       "</table>\n",
       "<p>100 rows × 1 columns</p>\n",
       "</div>"
      ],
      "text/plain": [
       "                                     Message d'origine\n",
       "N°                                                    \n",
       "1    \" Bonjour, je viens d'arriver en XXXXXX ,j'aie...\n",
       "2    \" J'ai fait une demande de duplicata de carte ...\n",
       "3    \" Bonjour, J'ai passé commande pour certificat...\n",
       "4    \" Bonjour, Mr XXXXXXXXXXXXXXX est inscrit chez...\n",
       "5    \" En date duXXXXXXXXX, j'ai commandé deux vign...\n",
       "..                                                 ...\n",
       "96   \" Bonjour, J'aimerais savoir si ce dimanche 26...\n",
       "97   \" J'ai acheté un véhicule leXXXXXXX:19. L'anci...\n",
       "98   \" Bonjour, J'ai fait une demande de copie d'in...\n",
       "99   \" Bonjour, Je suis mariée depuis mars et ai ch...\n",
       "100  \" Bonjour. Je suis au pair en XXXXXX depuis oc...\n",
       "\n",
       "[100 rows x 1 columns]"
      ]
     },
     "execution_count": 341,
     "metadata": {},
     "output_type": "execute_result"
    }
   ],
   "source": [
    "df_dila"
   ]
  }
 ],
 "metadata": {
  "kernelspec": {
   "display_name": "pseudo_pdf_tool",
   "language": "python",
   "name": "python3"
  },
  "language_info": {
   "codemirror_mode": {
    "name": "ipython",
    "version": 3
   },
   "file_extension": ".py",
   "mimetype": "text/x-python",
   "name": "python",
   "nbconvert_exporter": "python",
   "pygments_lexer": "ipython3",
   "version": "3.10.12"
  },
  "orig_nbformat": 4
 },
 "nbformat": 4,
 "nbformat_minor": 2
}
