{
 "cells": [
  {
   "cell_type": "markdown",
   "metadata": {},
   "source": [
    "## Objectif du notebook :\n",
    "\n",
    "Créer des fonctions qui oeuvreront au même moment que la NER pour protéger des instances sensibles qui ne sont pas des entités nommées, comme !\n",
    "- Des numéros de sécurité sociale\n",
    "- Des sites internet\n",
    "- Des adresses mail\n",
    "- Des plaques d'immatriculation"
   ]
  },
  {
   "cell_type": "code",
   "execution_count": 43,
   "metadata": {},
   "outputs": [],
   "source": [
    "# Imports\n",
    "\n",
    "import regex as re"
   ]
  },
  {
   "cell_type": "code",
   "execution_count": 44,
   "metadata": {},
   "outputs": [],
   "source": [
    "# Création de la liste de groupes d'entités :\n",
    "\n",
    "entity_groups = [\"SS\", \"website\", \"email\", \"plate\", \"phone\"]"
   ]
  },
  {
   "cell_type": "code",
   "execution_count": 45,
   "metadata": {},
   "outputs": [],
   "source": [
    "# Fonction pour les numéros de sécurité sociale \n",
    "\n",
    "reg_ss = r\"/^[12][0-9]{2}[0-1][0-9](2[AB]|[0-9]{2})[0-9]{2}[0-9]{3}[0-9]{3}$/x\"\n",
    "# nope\n",
    "\n",
    "# Regex pour les plaques :\n",
    "\n",
    "reg_plate = r\"\\b[0-9A-Z]{3}([^ 0-9A-Z]|\\s)?[0-9]{4}\\b\"\n",
    "\n",
    "# Regex pour les numéros de téléphone :\n",
    "\n",
    "reg_phone = r\"(0|(\\+33)|(0033))+[1-9]+[0-9]{8}\"\n",
    "\n",
    "# Regex pour un email :\n",
    "\n",
    "reg_email = r\"^[\\w\\.=-]+@[\\w\\.-]+\\.[\\w]{2,3}$\"\n",
    "\n",
    "# Regex pour un site :\n",
    "\n",
    "reg_website = r\"(?i)\\b((?:[a-z][\\w-]+:(?:\\/{1,3}|[a-z0-9%])|www\\d{0,3}[.]|[a-z0-9.\\-]+[.][a-z]{2,4}\\/)(?:[^\\s()<>]+|\\(([^\\s()<>]+|(\\([^\\s()<>]+\\)))*\\))+(?:\\(([^\\s()<>]+|(\\([^\\s()<>]+\\)))*\\)|[^\\s`!()\\[\\]{};:'.,<>?«»“”‘’]))\""
   ]
  },
  {
   "cell_type": "code",
   "execution_count": 46,
   "metadata": {},
   "outputs": [],
   "source": [
    "# faire fonction générale qui prend un dico en entrée et qui run toutes les fonctions et ajoute tout au bon format au dictionnaire et un texte\n",
    "\n",
    "def add_entities (text:str,\n",
    "                  l : list = []):\n",
    "    plates = re.findall(reg_plate, text)\n",
    "    plates = list(dict.fromkeys(plates))\n",
    "    ss = re.findall(reg_ss, text)\n",
    "    ss = list(dict.fromkeys(ss))\n",
    "    emails = re.findall(reg_email, text)\n",
    "    emails = list(dict.fromkeys(emails))\n",
    "    websites = re.findall(reg_website, text)\n",
    "    websites = list(dict.fromkeys(websites))\n",
    "    phones = re.findall(reg_phone, text)\n",
    "    phones = list(dict.fromkeys(phones))\n",
    "    #entity_groups = [\"SS\", \"website\", \"email\", \"plate\", \"phone\"]\n",
    "    for plate in plates :\n",
    "        if plate != '':\n",
    "            dic = {}\n",
    "            dic[\"entity_group\"] = \"plate\"\n",
    "            dic[\"word\"] = plate\n",
    "            l.append(dic)\n",
    "    for number in ss :\n",
    "        if number != '':\n",
    "            dic = {}\n",
    "            dic[\"entity_group\"] = \"SS\"\n",
    "            dic[\"word\"] = number\n",
    "            l.append(dic)\n",
    "    for mail in emails :\n",
    "        if mail != '':\n",
    "            dic = {}\n",
    "            dic[\"entity_group\"] = \"email\"\n",
    "            dic[\"word\"] = mail\n",
    "            l.append(dic)\n",
    "    for url in websites :\n",
    "        if url != '':\n",
    "            dic = {}\n",
    "            dic[\"entity_group\"] = \"website\"\n",
    "            dic[\"word\"] = url\n",
    "            l.append(dic)\n",
    "    for phone in phones :\n",
    "        if phone != '':\n",
    "            dic = {}\n",
    "            dic[\"entity_group\"] = \"phone\"\n",
    "            dic[\"word\"] = phone\n",
    "            l.append(dic)\n",
    "\n",
    "    return(l)"
   ]
  },
  {
   "cell_type": "code",
   "execution_count": 47,
   "metadata": {},
   "outputs": [
    {
     "name": "stdout",
     "output_type": "stream",
     "text": [
      "[]\n",
      "[]\n",
      "[]\n",
      "[('https://yahoo.fr', '', '', '', '')]\n",
      "[('+33', '+33', '')]\n"
     ]
    }
   ],
   "source": [
    "txt = \"FK-077-DV 2 69 24 18 158 275 lucie@clemot.com https://yahoo.fr +33622541979\"\n",
    "\n",
    "add_entities(txt)"
   ]
  }
 ],
 "metadata": {
  "kernelspec": {
   "display_name": "pseudo_pdf_tool",
   "language": "python",
   "name": "python3"
  },
  "language_info": {
   "codemirror_mode": {
    "name": "ipython",
    "version": 3
   },
   "file_extension": ".py",
   "mimetype": "text/x-python",
   "name": "python",
   "nbconvert_exporter": "python",
   "pygments_lexer": "ipython3",
   "version": "3.10.12"
  },
  "orig_nbformat": 4
 },
 "nbformat": 4,
 "nbformat_minor": 2
}
